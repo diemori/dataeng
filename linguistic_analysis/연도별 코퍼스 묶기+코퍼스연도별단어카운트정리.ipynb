{
 "cells": [
  {
   "cell_type": "code",
   "execution_count": 182,
   "metadata": {
    "collapsed": true
   },
   "outputs": [],
   "source": [
    "import pandas as pd\n",
    "import numpy as np"
   ]
  },
  {
   "cell_type": "code",
   "execution_count": 157,
   "metadata": {
    "collapsed": true
   },
   "outputs": [],
   "source": [
    "df = pd.read_csv(\"result_all_20180227.csv\", sep=\"|\")"
   ]
  },
  {
   "cell_type": "code",
   "execution_count": 158,
   "metadata": {},
   "outputs": [
    {
     "data": {
      "text/html": [
       "<div>\n",
       "<style>\n",
       "    .dataframe thead tr:only-child th {\n",
       "        text-align: right;\n",
       "    }\n",
       "\n",
       "    .dataframe thead th {\n",
       "        text-align: left;\n",
       "    }\n",
       "\n",
       "    .dataframe tbody tr th {\n",
       "        vertical-align: top;\n",
       "    }\n",
       "</style>\n",
       "<table border=\"1\" class=\"dataframe\">\n",
       "  <thead>\n",
       "    <tr style=\"text-align: right;\">\n",
       "      <th></th>\n",
       "      <th>Unnamed: 0</th>\n",
       "      <th>FILENAME</th>\n",
       "      <th>YYYYMM</th>\n",
       "      <th>DD</th>\n",
       "      <th>TITLE</th>\n",
       "      <th>MAIN</th>\n",
       "      <th>AUTHOR</th>\n",
       "      <th>DATE</th>\n",
       "      <th>YYYY</th>\n",
       "      <th>MAIN_CNT</th>\n",
       "    </tr>\n",
       "  </thead>\n",
       "  <tbody>\n",
       "    <tr>\n",
       "      <th>0</th>\n",
       "      <td>0</td>\n",
       "      <td>warner-propose-sa-musique-sur-le-site-musicmak...</td>\n",
       "      <td>archives_2008_08</td>\n",
       "      <td>20</td>\n",
       "      <td>Warner propose sa musique sur le site MusicMak...</td>\n",
       "      <td>Le site MusicMakesFriends avait ouvert officie...</td>\n",
       "      <td>Arnaud Devillard</td>\n",
       "      <td>20/08/2008 à 15h50</td>\n",
       "      <td>2008</td>\n",
       "      <td>256</td>\n",
       "    </tr>\n",
       "    <tr>\n",
       "      <th>1</th>\n",
       "      <td>1</td>\n",
       "      <td>les-pc-portables-d-acer-a-499-euros-deboulent-...</td>\n",
       "      <td>archives_2008_08</td>\n",
       "      <td>20</td>\n",
       "      <td>Les PC portables d'Acer à 499 euros déboulent ...</td>\n",
       "      <td>C'est la réclame du moment : à la rentrée le p...</td>\n",
       "      <td>NaN</td>\n",
       "      <td>20/08/2008 à 17h45</td>\n",
       "      <td>2008</td>\n",
       "      <td>363</td>\n",
       "    </tr>\n",
       "    <tr>\n",
       "      <th>2</th>\n",
       "      <td>2</td>\n",
       "      <td>genies-en-herbe-388053.html</td>\n",
       "      <td>archives_2008_08</td>\n",
       "      <td>20</td>\n",
       "      <td>Génies en herbe</td>\n",
       "      <td>Ouf, sauvé par le Net ! Avec l'adresse de ce s...</td>\n",
       "      <td>Hervé Cabibbo</td>\n",
       "      <td>20/08/2008 à 07h00</td>\n",
       "      <td>2008</td>\n",
       "      <td>136</td>\n",
       "    </tr>\n",
       "    <tr>\n",
       "      <th>3</th>\n",
       "      <td>3</td>\n",
       "      <td>google-peut-se-satisfaire-de-sa-satisfaction-c...</td>\n",
       "      <td>archives_2008_08</td>\n",
       "      <td>20</td>\n",
       "      <td>Google peut se satisfaire de sa satisfaction c...</td>\n",
       "      <td>Google peut se targuer d'un taux de satisfacti...</td>\n",
       "      <td>Arnaud Devillard</td>\n",
       "      <td>20/08/2008 à 11h47</td>\n",
       "      <td>2008</td>\n",
       "      <td>234</td>\n",
       "    </tr>\n",
       "    <tr>\n",
       "      <th>4</th>\n",
       "      <td>4</td>\n",
       "      <td>comment-obtenir-le-sp3-sur-cd-pour-windows-xp-...</td>\n",
       "      <td>archives_2008_08</td>\n",
       "      <td>20</td>\n",
       "      <td>Comment obtenir le SP3 sur CD pour Windows XP?</td>\n",
       "      <td>Officiellement, Microsoft France ne distribue ...</td>\n",
       "      <td>Duval Loic</td>\n",
       "      <td>20/08/2008 à 12h00</td>\n",
       "      <td>2008</td>\n",
       "      <td>304</td>\n",
       "    </tr>\n",
       "  </tbody>\n",
       "</table>\n",
       "</div>"
      ],
      "text/plain": [
       "   Unnamed: 0                                           FILENAME  \\\n",
       "0           0  warner-propose-sa-musique-sur-le-site-musicmak...   \n",
       "1           1  les-pc-portables-d-acer-a-499-euros-deboulent-...   \n",
       "2           2                        genies-en-herbe-388053.html   \n",
       "3           3  google-peut-se-satisfaire-de-sa-satisfaction-c...   \n",
       "4           4  comment-obtenir-le-sp3-sur-cd-pour-windows-xp-...   \n",
       "\n",
       "             YYYYMM  DD                                              TITLE  \\\n",
       "0  archives_2008_08  20  Warner propose sa musique sur le site MusicMak...   \n",
       "1  archives_2008_08  20  Les PC portables d'Acer à 499 euros déboulent ...   \n",
       "2  archives_2008_08  20                                    Génies en herbe   \n",
       "3  archives_2008_08  20  Google peut se satisfaire de sa satisfaction c...   \n",
       "4  archives_2008_08  20     Comment obtenir le SP3 sur CD pour Windows XP?   \n",
       "\n",
       "                                                MAIN            AUTHOR  \\\n",
       "0  Le site MusicMakesFriends avait ouvert officie...  Arnaud Devillard   \n",
       "1  C'est la réclame du moment : à la rentrée le p...               NaN   \n",
       "2  Ouf, sauvé par le Net ! Avec l'adresse de ce s...     Hervé Cabibbo   \n",
       "3  Google peut se targuer d'un taux de satisfacti...  Arnaud Devillard   \n",
       "4  Officiellement, Microsoft France ne distribue ...        Duval Loic   \n",
       "\n",
       "                 DATE  YYYY  MAIN_CNT  \n",
       "0  20/08/2008 à 15h50  2008       256  \n",
       "1  20/08/2008 à 17h45  2008       363  \n",
       "2  20/08/2008 à 07h00  2008       136  \n",
       "3  20/08/2008 à 11h47  2008       234  \n",
       "4  20/08/2008 à 12h00  2008       304  "
      ]
     },
     "execution_count": 158,
     "metadata": {},
     "output_type": "execute_result"
    }
   ],
   "source": [
    "df.head()\n"
   ]
  },
  {
   "cell_type": "code",
   "execution_count": 159,
   "metadata": {
    "collapsed": true,
    "scrolled": true
   },
   "outputs": [],
   "source": [
    "df_year_main = df[['YYYY','MAIN']]\n",
    "# Main의 연도별 정리를 위해 col추출"
   ]
  },
  {
   "cell_type": "code",
   "execution_count": 160,
   "metadata": {},
   "outputs": [
    {
     "name": "stdout",
     "output_type": "stream",
     "text": [
      "   YYYY                                               MAIN\n",
      "0  2008  Le site MusicMakesFriends avait ouvert officie...\n",
      "1  2008  C'est la réclame du moment : à la rentrée le p...\n",
      "2  2008  Ouf, sauvé par le Net ! Avec l'adresse de ce s...\n",
      "3  2008  Google peut se targuer d'un taux de satisfacti...\n",
      "4  2008  Officiellement, Microsoft France ne distribue ...\n"
     ]
    }
   ],
   "source": [
    "print(df_year_main.head())"
   ]
  },
  {
   "cell_type": "code",
   "execution_count": 161,
   "metadata": {
    "collapsed": true
   },
   "outputs": [],
   "source": [
    "# 연도별 main정리\n",
    "main_1998 = df_year_main.loc[df_year_main['YYYY'].isin(['1998'])]\n",
    "main_1999 = df_year_main.loc[df_year_main['YYYY'].isin(['1999'])]\n",
    "main_2000 = df_year_main.loc[df_year_main['YYYY'].isin(['2000'])]\n",
    "main_2001 = df_year_main.loc[df_year_main['YYYY'].isin(['2001'])]\n",
    "main_2002 = df_year_main.loc[df_year_main['YYYY'].isin(['2002'])]\n",
    "main_2003 = df_year_main.loc[df_year_main['YYYY'].isin(['2003'])]\n",
    "main_2004 = df_year_main.loc[df_year_main['YYYY'].isin(['2004'])]\n",
    "main_2005 = df_year_main.loc[df_year_main['YYYY'].isin(['2005'])]\n",
    "main_2006 = df_year_main.loc[df_year_main['YYYY'].isin(['2006'])]\n",
    "main_2007 = df_year_main.loc[df_year_main['YYYY'].isin(['2007'])]\n",
    "main_2008 = df_year_main.loc[df_year_main['YYYY'].isin(['2008'])]\n",
    "main_2009 = df_year_main.loc[df_year_main['YYYY'].isin(['2009'])]\n",
    "main_2010 = df_year_main.loc[df_year_main['YYYY'].isin(['2010'])]\n",
    "main_2011 = df_year_main.loc[df_year_main['YYYY'].isin(['2011'])]\n",
    "main_2012 = df_year_main.loc[df_year_main['YYYY'].isin(['2012'])]\n",
    "main_2013 = df_year_main.loc[df_year_main['YYYY'].isin(['2013'])]\n",
    "main_2014 = df_year_main.loc[df_year_main['YYYY'].isin(['2014'])]\n",
    "main_2015 = df_year_main.loc[df_year_main['YYYY'].isin(['2015'])]\n",
    "main_2016 = df_year_main.loc[df_year_main['YYYY'].isin(['2016'])]\n",
    "main_2017 = df_year_main.loc[df_year_main['YYYY'].isin(['2017'])]\n",
    "main_2018 = df_year_main.loc[df_year_main['YYYY'].isin(['2018'])]"
   ]
  },
  {
   "cell_type": "code",
   "execution_count": 162,
   "metadata": {
    "scrolled": true
   },
   "outputs": [
    {
     "data": {
      "text/html": [
       "<div>\n",
       "<style>\n",
       "    .dataframe thead tr:only-child th {\n",
       "        text-align: right;\n",
       "    }\n",
       "\n",
       "    .dataframe thead th {\n",
       "        text-align: left;\n",
       "    }\n",
       "\n",
       "    .dataframe tbody tr th {\n",
       "        vertical-align: top;\n",
       "    }\n",
       "</style>\n",
       "<table border=\"1\" class=\"dataframe\">\n",
       "  <thead>\n",
       "    <tr style=\"text-align: right;\">\n",
       "      <th></th>\n",
       "      <th>YYYY</th>\n",
       "      <th>MAIN</th>\n",
       "    </tr>\n",
       "  </thead>\n",
       "  <tbody>\n",
       "    <tr>\n",
       "      <th>45118</th>\n",
       "      <td>1998</td>\n",
       "      <td>Les missions principales du SCSSI le conduisen...</td>\n",
       "    </tr>\n",
       "    <tr>\n",
       "      <th>61287</th>\n",
       "      <td>1998</td>\n",
       "      <td>LUrec, Unité réseaux du Centre national de rec...</td>\n",
       "    </tr>\n",
       "    <tr>\n",
       "      <th>61288</th>\n",
       "      <td>1998</td>\n",
       "      <td>Le Ministère de l'Economie des Finances et de ...</td>\n",
       "    </tr>\n",
       "    <tr>\n",
       "      <th>61289</th>\n",
       "      <td>1998</td>\n",
       "      <td>LART inscrit son action dans le cadre de la lo...</td>\n",
       "    </tr>\n",
       "    <tr>\n",
       "      <th>61290</th>\n",
       "      <td>1998</td>\n",
       "      <td>Le site web du ministère français de l'Économi...</td>\n",
       "    </tr>\n",
       "  </tbody>\n",
       "</table>\n",
       "</div>"
      ],
      "text/plain": [
       "       YYYY                                               MAIN\n",
       "45118  1998  Les missions principales du SCSSI le conduisen...\n",
       "61287  1998  LUrec, Unité réseaux du Centre national de rec...\n",
       "61288  1998  Le Ministère de l'Economie des Finances et de ...\n",
       "61289  1998  LART inscrit son action dans le cadre de la lo...\n",
       "61290  1998  Le site web du ministère français de l'Économi..."
      ]
     },
     "execution_count": 162,
     "metadata": {},
     "output_type": "execute_result"
    }
   ],
   "source": [
    "main_1998.head()"
   ]
  },
  {
   "cell_type": "code",
   "execution_count": 186,
   "metadata": {},
   "outputs": [],
   "source": [
    "# 연도별 main 에 담긴 내용만을 txt파일로 만들기\n",
    "# 우선 1998년만 샘플로! \n",
    "\n",
    "f = open(\"main_1998.txt\", 'w')\n",
    "data = main_1998['MAIN']\n",
    "f.write(str(data))\n",
    "f.close()"
   ]
  },
  {
   "cell_type": "code",
   "execution_count": 187,
   "metadata": {},
   "outputs": [
    {
     "name": "stdout",
     "output_type": "stream",
     "text": [
      "les 8\n",
      "missions 1\n",
      "principales 1\n",
      "scssi 1\n",
      "conduisen 1\n",
      "lurec 1\n",
      "centre 2\n",
      "national 1\n",
      "rec 1\n",
      "economie 1\n",
      "des 9\n",
      "finances 1\n",
      "lart 1\n",
      "inscrit 1\n",
      "son 1\n",
      "action 1\n",
      "dans 3\n",
      "cadre 1\n",
      "site 17\n",
      "web 9\n",
      "nul 1\n",
      "nest 1\n",
      "ignorer 1\n",
      "loi 1\n",
      "janvier 1\n",
      "lafnor 1\n",
      "agence 1\n",
      "nor 1\n",
      "nic 1\n",
      "france 1\n",
      "pour 5\n",
      "mission 1\n",
      "gestion 1\n",
      "nom 3\n",
      "philippe 1\n",
      "molinier 1\n",
      "documents 1\n",
      "mis 1\n",
      "ligne 1\n",
      "sur 4\n",
      "sont 3\n",
      "component 2\n",
      "source 2\n",
      "adresse 2\n",
      "aux 2\n",
      "moniteurs 1\n",
      "com 6\n",
      "est 10\n",
      "abord 1\n",
      "marchand 2\n",
      "per 1\n",
      "destockage 1\n",
      "softgallery 2\n",
      "propose 5\n",
      "logiciels 2\n",
      "win 2\n",
      "une 7\n",
      "librairie 1\n",
      "quatre 1\n",
      "grandes 1\n",
      "rubriques 1\n",
      "regroupent 1\n",
      "effet 1\n",
      "boutique 1\n",
      "elle 1\n",
      "renferme 1\n",
      "version 2\n",
      "drivers 1\n",
      "myphonebook 1\n",
      "offre 1\n",
      "toutes 1\n",
      "fonctions 1\n",
      "classiq 1\n",
      "ces 2\n",
      "listes 1\n",
      "par 3\n",
      "type 2\n",
      "chapitre 1\n",
      "tient 1\n",
      "transtec 1\n",
      "fabricant 2\n",
      "unix 1\n",
      "linux 2\n",
      "canal 1\n",
      "telier 1\n",
      "presque 1\n",
      "chaque 1\n",
      "jour 1\n",
      "service 3\n",
      "gratuit 1\n",
      "ressemble 1\n",
      "fortement 1\n",
      "monde 1\n",
      "tiques 1\n",
      "base 1\n",
      "librair 1\n",
      "option 1\n",
      "offerte 1\n",
      "gratui 1\n",
      "offert 1\n",
      "plus 2\n",
      "annuai 1\n",
      "jobs 1\n",
      "azimut 1\n",
      "extension 1\n",
      "internet 1\n",
      "reilly 1\n",
      "kingston 1\n",
      "vient 1\n",
      "appuyer 1\n",
      "ouvrages 1\n",
      "peu 3\n",
      "particulier 1\n",
      "outre 1\n",
      "informati 1\n",
      "peut 1\n",
      "guy 1\n",
      "louis 1\n",
      "gavet 1\n",
      "ind 1\n",
      "payant 1\n",
      "guide 1\n",
      "produits 1\n",
      "bios 1\n",
      "peuvent 1\n",
      "fruit 1\n",
      "initiative 1\n",
      "cette 1\n",
      "liste 1\n",
      "shareware 1\n",
      "fait 1\n",
      "partie 1\n",
      "fonctionne 1\n",
      "windows 1\n",
      "portait 1\n",
      "restricti 1\n",
      "nombreux 1\n",
      "optimiser 1\n",
      "usage 1\n",
      "met 2\n",
      "disposition 2\n",
      "index 1\n",
      "materiels 1\n",
      "pilotes 1\n",
      "moteur 1\n",
      "reche 1\n",
      "rappelons 1\n",
      "principe 1\n",
      "association 1\n",
      "francophone 1\n",
      "utilisateurs 2\n",
      "online 1\n",
      "regroupe 1\n",
      "informat 1\n",
      "anglais 1\n",
      "destin 1\n",
      "cyberworkers 1\n",
      "rassemble 1\n",
      "part 1\n",
      "professionnels 1\n",
      "logiciel 1\n",
      "afuu 1\n",
      "leur 1\n",
      "ensemble 1\n",
      "sait 1\n",
      "giants 2\n",
      "prochain 2\n",
      "mdk 2\n",
      "ont 1\n",
      "shiny 1\n",
      "entertai 1\n",
      "jeu 1\n",
      "auteurs 1\n",
      "vie 1\n",
      "permet 1\n",
      "gratuitemen 1\n",
      "rappelez 1\n",
      "vous 1\n",
      "micros 1\n",
      "name 1\n",
      "main 1\n",
      "length 1\n",
      "dtype 1\n",
      "object 1\n"
     ]
    }
   ],
   "source": [
    "# 전체 단어 빈도 세기 \n",
    "# 그냥 한 번 해봄 \n",
    "\n",
    "import re\n",
    "import string\n",
    "frequency = {}\n",
    "document_text = open('main_1998.txt', 'r')\n",
    "text_string = document_text.read().lower()\n",
    "match_pattern = re.findall(r'\\b[a-z]{3,15}\\b', text_string)\n",
    " \n",
    "for word in match_pattern:\n",
    "    count = frequency.get(word,0)\n",
    "    frequency[word] = count + 1\n",
    "     \n",
    "frequency_list = frequency.keys()\n",
    " \n",
    "for words in frequency_list:\n",
    "    print (words, frequency[words])\n",
    "\n",
    "# ascending=True로 하려면? "
   ]
  },
  {
   "cell_type": "code",
   "execution_count": 188,
   "metadata": {},
   "outputs": [
    {
     "name": "stdout",
     "output_type": "stream",
     "text": [
      "  Unnamed: 0                                       0\n",
      "0          0                        abonné itinérant\n",
      "1          1                                   accès\n",
      "2          2                          accès hertzien\n",
      "3          3                          accès multiple\n",
      "4          4  accès multiple par répartition en code\n"
     ]
    }
   ],
   "source": [
    "#리스트 불러오기\n",
    "list = pd.read_csv(\"word_list_franceterme.csv\", sep=\"|\")\n",
    "print(list.head())"
   ]
  },
  {
   "cell_type": "code",
   "execution_count": 189,
   "metadata": {},
   "outputs": [],
   "source": [
    "list.columns = ['#', 'WORD']"
   ]
  },
  {
   "cell_type": "code",
   "execution_count": 190,
   "metadata": {
    "scrolled": true
   },
   "outputs": [
    {
     "data": {
      "text/html": [
       "<div>\n",
       "<style>\n",
       "    .dataframe thead tr:only-child th {\n",
       "        text-align: right;\n",
       "    }\n",
       "\n",
       "    .dataframe thead th {\n",
       "        text-align: left;\n",
       "    }\n",
       "\n",
       "    .dataframe tbody tr th {\n",
       "        vertical-align: top;\n",
       "    }\n",
       "</style>\n",
       "<table border=\"1\" class=\"dataframe\">\n",
       "  <thead>\n",
       "    <tr style=\"text-align: right;\">\n",
       "      <th></th>\n",
       "      <th>#</th>\n",
       "      <th>WORD</th>\n",
       "    </tr>\n",
       "  </thead>\n",
       "  <tbody>\n",
       "    <tr>\n",
       "      <th>0</th>\n",
       "      <td>0</td>\n",
       "      <td>abonné itinérant</td>\n",
       "    </tr>\n",
       "    <tr>\n",
       "      <th>1</th>\n",
       "      <td>1</td>\n",
       "      <td>accès</td>\n",
       "    </tr>\n",
       "    <tr>\n",
       "      <th>2</th>\n",
       "      <td>2</td>\n",
       "      <td>accès hertzien</td>\n",
       "    </tr>\n",
       "    <tr>\n",
       "      <th>3</th>\n",
       "      <td>3</td>\n",
       "      <td>accès multiple</td>\n",
       "    </tr>\n",
       "    <tr>\n",
       "      <th>4</th>\n",
       "      <td>4</td>\n",
       "      <td>accès multiple par répartition en code</td>\n",
       "    </tr>\n",
       "  </tbody>\n",
       "</table>\n",
       "</div>"
      ],
      "text/plain": [
       "   #                                    WORD\n",
       "0  0                        abonné itinérant\n",
       "1  1                                   accès\n",
       "2  2                          accès hertzien\n",
       "3  3                          accès multiple\n",
       "4  4  accès multiple par répartition en code"
      ]
     },
     "execution_count": 190,
     "metadata": {},
     "output_type": "execute_result"
    }
   ],
   "source": [
    "list.head()"
   ]
  },
  {
   "cell_type": "code",
   "execution_count": 197,
   "metadata": {},
   "outputs": [],
   "source": [
    "# 단어 리스트를 list 형태로 만들기 \n",
    "list_word = list['WORD']\n",
    "type(list_word)\n",
    "nlist = list_word.tolist()"
   ]
  },
  {
   "cell_type": "code",
   "execution_count": 225,
   "metadata": {
    "collapsed": true
   },
   "outputs": [],
   "source": [
    "from collections import Counter\n",
    "import re\n",
    "import string"
   ]
  },
  {
   "cell_type": "code",
   "execution_count": 211,
   "metadata": {
    "collapsed": true
   },
   "outputs": [],
   "source": [
    "document_text = open('main_1998.txt', 'r')\n",
    "text_string = document_text.read().lower()"
   ]
  },
  {
   "cell_type": "code",
   "execution_count": 232,
   "metadata": {},
   "outputs": [
    {
     "name": "stdout",
     "output_type": "stream",
     "text": [
      "4 21\n",
      "5 18\n",
      "1 75\n",
      "8 10\n",
      "  776\n",
      "l 122\n",
      "e 343\n",
      "s 199\n",
      "m 66\n",
      "i 188\n",
      "o 130\n",
      "n 171\n",
      "p 80\n",
      "r 162\n",
      "c 80\n",
      "a 135\n",
      "d 85\n",
      "u 112\n",
      ". 192\n",
      "\n",
      " 61\n",
      "6 60\n",
      "2 26\n",
      "7 11\n",
      ", 20\n",
      "t 163\n",
      "é 44\n",
      "x 9\n",
      "è 10\n",
      "' 19\n",
      "f 36\n",
      "9 21\n",
      "0 20\n",
      "w 15\n",
      "b 29\n",
      "ç 7\n",
      "g 31\n",
      "j 5\n",
      "v 18\n",
      "( 5\n",
      "3 57\n",
      "à 4\n",
      "h 15\n",
      "y 15\n",
      "k 6\n",
      "q 10\n",
      "ù 1\n",
      "@ 2\n",
      "\" 2\n",
      "- 2\n",
      "z 2\n",
      "$ 1\n",
      "ê 2\n",
      ": 3\n"
     ]
    }
   ],
   "source": [
    "# 뭔가 단어별 인식이 안되어있는 듯\n",
    "d = nlist\n",
    "frequency = {}\n",
    "\n",
    "for word in text_string :\n",
    "    count = frequency.get(word,0)\n",
    "    frequency[word] = count + 1\n",
    "     \n",
    "frequency_list = frequency.keys()\n",
    " \n",
    "for words in frequency_list:\n",
    "    print(words, frequency[words])\n"
   ]
  },
  {
   "cell_type": "code",
   "execution_count": 224,
   "metadata": {},
   "outputs": [
    {
     "ename": "TypeError",
     "evalue": "list indices must be integers or slices, not str",
     "output_type": "error",
     "traceback": [
      "\u001b[0;31m---------------------------------------------------------------------------\u001b[0m",
      "\u001b[0;31mTypeError\u001b[0m                                 Traceback (most recent call last)",
      "\u001b[0;32m<ipython-input-224-c616f6edc617>\u001b[0m in \u001b[0;36m<module>\u001b[0;34m()\u001b[0m\n\u001b[1;32m      5\u001b[0m         \u001b[0md\u001b[0m\u001b[0;34m[\u001b[0m\u001b[0mword\u001b[0m\u001b[0;34m]\u001b[0m \u001b[0;34m=\u001b[0m \u001b[0md\u001b[0m\u001b[0;34m[\u001b[0m\u001b[0mword\u001b[0m\u001b[0;34m]\u001b[0m\u001b[0;34m+\u001b[0m\u001b[0;36m1\u001b[0m\u001b[0;34m\u001b[0m\u001b[0m\n\u001b[1;32m      6\u001b[0m \u001b[0;34m\u001b[0m\u001b[0m\n\u001b[0;32m----> 7\u001b[0;31m \u001b[0mresult\u001b[0m \u001b[0;34m=\u001b[0m \u001b[0;34m[\u001b[0m\u001b[0mword\u001b[0m\u001b[0;34m,\u001b[0m \u001b[0md\u001b[0m\u001b[0;34m[\u001b[0m\u001b[0mword\u001b[0m\u001b[0;34m]\u001b[0m\u001b[0;34m]\u001b[0m\u001b[0;34m\u001b[0m\u001b[0m\n\u001b[0m\u001b[1;32m      8\u001b[0m \u001b[0mprint\u001b[0m\u001b[0;34m(\u001b[0m\u001b[0mresult\u001b[0m\u001b[0;34m)\u001b[0m\u001b[0;34m\u001b[0m\u001b[0m\n",
      "\u001b[0;31mTypeError\u001b[0m: list indices must be integers or slices, not str"
     ]
    }
   ],
   "source": [
    "\n",
    "    \n",
    "for word in text_string:\n",
    "    if word in d:\n",
    "        d[word] = d[word]+1\n",
    "    else:\n",
    "        d[word] = 0\n",
    "result = [word, d[word]]\n",
    "print(result)"
   ]
  },
  {
   "cell_type": "code",
   "execution_count": 212,
   "metadata": {},
   "outputs": [],
   "source": [
    "# 단어 수를 세는 함수 만들기 \n",
    "def words_occurrence(text_string):\n",
    "    d = nlist\n",
    "    words= np.split(text_string, '')\n",
    "    \n",
    "    for word in words:\n",
    "        if word in d:\n",
    "            d[word] = d[word]+1\n",
    "        else:\n",
    "            d[word] = 1\n",
    "    result = [word + ':' + d[word]]\n",
    "    print(result)"
   ]
  },
  {
   "cell_type": "code",
   "execution_count": null,
   "metadata": {
    "collapsed": true
   },
   "outputs": [],
   "source": [
    "    result = sorted(d.items(), key=(lambda x:x[1], lambda x: x))\n",
    "    return result"
   ]
  },
  {
   "cell_type": "code",
   "execution_count": 207,
   "metadata": {},
   "outputs": [],
   "source": []
  },
  {
   "cell_type": "code",
   "execution_count": 210,
   "metadata": {},
   "outputs": [
    {
     "ename": "ValueError",
     "evalue": "bad axis1 argument to swapaxes",
     "output_type": "error",
     "traceback": [
      "\u001b[0;31m---------------------------------------------------------------------------\u001b[0m",
      "\u001b[0;31mAttributeError\u001b[0m                            Traceback (most recent call last)",
      "\u001b[0;32m/anaconda3/lib/python3.6/site-packages/numpy/core/fromnumeric.py\u001b[0m in \u001b[0;36m_wrapfunc\u001b[0;34m(obj, method, *args, **kwds)\u001b[0m\n\u001b[1;32m     56\u001b[0m     \u001b[0;32mtry\u001b[0m\u001b[0;34m:\u001b[0m\u001b[0;34m\u001b[0m\u001b[0m\n\u001b[0;32m---> 57\u001b[0;31m         \u001b[0;32mreturn\u001b[0m \u001b[0mgetattr\u001b[0m\u001b[0;34m(\u001b[0m\u001b[0mobj\u001b[0m\u001b[0;34m,\u001b[0m \u001b[0mmethod\u001b[0m\u001b[0;34m)\u001b[0m\u001b[0;34m(\u001b[0m\u001b[0;34m*\u001b[0m\u001b[0margs\u001b[0m\u001b[0;34m,\u001b[0m \u001b[0;34m**\u001b[0m\u001b[0mkwds\u001b[0m\u001b[0;34m)\u001b[0m\u001b[0;34m\u001b[0m\u001b[0m\n\u001b[0m\u001b[1;32m     58\u001b[0m \u001b[0;34m\u001b[0m\u001b[0m\n",
      "\u001b[0;31mAttributeError\u001b[0m: 'str' object has no attribute 'swapaxes'",
      "\nDuring handling of the above exception, another exception occurred:\n",
      "\u001b[0;31mValueError\u001b[0m                                Traceback (most recent call last)",
      "\u001b[0;32m<ipython-input-210-119d9ad53f7f>\u001b[0m in \u001b[0;36m<module>\u001b[0;34m()\u001b[0m\n\u001b[0;32m----> 1\u001b[0;31m \u001b[0mwords_occurrence\u001b[0m\u001b[0;34m(\u001b[0m\u001b[0mtext_string\u001b[0m\u001b[0;34m)\u001b[0m\u001b[0;34m\u001b[0m\u001b[0m\n\u001b[0m",
      "\u001b[0;32m<ipython-input-209-309afc4e0804>\u001b[0m in \u001b[0;36mwords_occurrence\u001b[0;34m(text)\u001b[0m\n\u001b[1;32m      2\u001b[0m \u001b[0;32mdef\u001b[0m \u001b[0mwords_occurrence\u001b[0m\u001b[0;34m(\u001b[0m\u001b[0mtext\u001b[0m\u001b[0;34m)\u001b[0m\u001b[0;34m:\u001b[0m\u001b[0;34m\u001b[0m\u001b[0m\n\u001b[1;32m      3\u001b[0m     \u001b[0md\u001b[0m \u001b[0;34m=\u001b[0m \u001b[0mnlist\u001b[0m\u001b[0;34m\u001b[0m\u001b[0m\n\u001b[0;32m----> 4\u001b[0;31m     \u001b[0mwords\u001b[0m\u001b[0;34m=\u001b[0m \u001b[0mnp\u001b[0m\u001b[0;34m.\u001b[0m\u001b[0msplit\u001b[0m\u001b[0;34m(\u001b[0m\u001b[0mtext\u001b[0m\u001b[0;34m,\u001b[0m \u001b[0;34m''\u001b[0m\u001b[0;34m)\u001b[0m\u001b[0;34m\u001b[0m\u001b[0m\n\u001b[0m\u001b[1;32m      5\u001b[0m \u001b[0;34m\u001b[0m\u001b[0m\n\u001b[1;32m      6\u001b[0m     \u001b[0;32mfor\u001b[0m \u001b[0mword\u001b[0m \u001b[0;32min\u001b[0m \u001b[0mwords\u001b[0m\u001b[0;34m:\u001b[0m\u001b[0;34m\u001b[0m\u001b[0m\n",
      "\u001b[0;32m/anaconda3/lib/python3.6/site-packages/numpy/lib/shape_base.py\u001b[0m in \u001b[0;36msplit\u001b[0;34m(ary, indices_or_sections, axis)\u001b[0m\n\u001b[1;32m    540\u001b[0m             raise ValueError(\n\u001b[1;32m    541\u001b[0m                 'array split does not result in an equal division')\n\u001b[0;32m--> 542\u001b[0;31m     \u001b[0mres\u001b[0m \u001b[0;34m=\u001b[0m \u001b[0marray_split\u001b[0m\u001b[0;34m(\u001b[0m\u001b[0mary\u001b[0m\u001b[0;34m,\u001b[0m \u001b[0mindices_or_sections\u001b[0m\u001b[0;34m,\u001b[0m \u001b[0maxis\u001b[0m\u001b[0;34m)\u001b[0m\u001b[0;34m\u001b[0m\u001b[0m\n\u001b[0m\u001b[1;32m    543\u001b[0m     \u001b[0;32mreturn\u001b[0m \u001b[0mres\u001b[0m\u001b[0;34m\u001b[0m\u001b[0m\n\u001b[1;32m    544\u001b[0m \u001b[0;34m\u001b[0m\u001b[0m\n",
      "\u001b[0;32m/anaconda3/lib/python3.6/site-packages/numpy/lib/shape_base.py\u001b[0m in \u001b[0;36marray_split\u001b[0;34m(ary, indices_or_sections, axis)\u001b[0m\n\u001b[1;32m    457\u001b[0m \u001b[0;34m\u001b[0m\u001b[0m\n\u001b[1;32m    458\u001b[0m     \u001b[0msub_arys\u001b[0m \u001b[0;34m=\u001b[0m \u001b[0;34m[\u001b[0m\u001b[0;34m]\u001b[0m\u001b[0;34m\u001b[0m\u001b[0m\n\u001b[0;32m--> 459\u001b[0;31m     \u001b[0msary\u001b[0m \u001b[0;34m=\u001b[0m \u001b[0m_nx\u001b[0m\u001b[0;34m.\u001b[0m\u001b[0mswapaxes\u001b[0m\u001b[0;34m(\u001b[0m\u001b[0mary\u001b[0m\u001b[0;34m,\u001b[0m \u001b[0maxis\u001b[0m\u001b[0;34m,\u001b[0m \u001b[0;36m0\u001b[0m\u001b[0;34m)\u001b[0m\u001b[0;34m\u001b[0m\u001b[0m\n\u001b[0m\u001b[1;32m    460\u001b[0m     \u001b[0;32mfor\u001b[0m \u001b[0mi\u001b[0m \u001b[0;32min\u001b[0m \u001b[0mrange\u001b[0m\u001b[0;34m(\u001b[0m\u001b[0mNsections\u001b[0m\u001b[0;34m)\u001b[0m\u001b[0;34m:\u001b[0m\u001b[0;34m\u001b[0m\u001b[0m\n\u001b[1;32m    461\u001b[0m         \u001b[0mst\u001b[0m \u001b[0;34m=\u001b[0m \u001b[0mdiv_points\u001b[0m\u001b[0;34m[\u001b[0m\u001b[0mi\u001b[0m\u001b[0;34m]\u001b[0m\u001b[0;34m\u001b[0m\u001b[0m\n",
      "\u001b[0;32m/anaconda3/lib/python3.6/site-packages/numpy/core/fromnumeric.py\u001b[0m in \u001b[0;36mswapaxes\u001b[0;34m(a, axis1, axis2)\u001b[0m\n\u001b[1;32m    499\u001b[0m \u001b[0;34m\u001b[0m\u001b[0m\n\u001b[1;32m    500\u001b[0m     \"\"\"\n\u001b[0;32m--> 501\u001b[0;31m     \u001b[0;32mreturn\u001b[0m \u001b[0m_wrapfunc\u001b[0m\u001b[0;34m(\u001b[0m\u001b[0ma\u001b[0m\u001b[0;34m,\u001b[0m \u001b[0;34m'swapaxes'\u001b[0m\u001b[0;34m,\u001b[0m \u001b[0maxis1\u001b[0m\u001b[0;34m,\u001b[0m \u001b[0maxis2\u001b[0m\u001b[0;34m)\u001b[0m\u001b[0;34m\u001b[0m\u001b[0m\n\u001b[0m\u001b[1;32m    502\u001b[0m \u001b[0;34m\u001b[0m\u001b[0m\n\u001b[1;32m    503\u001b[0m \u001b[0;34m\u001b[0m\u001b[0m\n",
      "\u001b[0;32m/anaconda3/lib/python3.6/site-packages/numpy/core/fromnumeric.py\u001b[0m in \u001b[0;36m_wrapfunc\u001b[0;34m(obj, method, *args, **kwds)\u001b[0m\n\u001b[1;32m     65\u001b[0m     \u001b[0;31m# a downstream library like 'pandas'.\u001b[0m\u001b[0;34m\u001b[0m\u001b[0;34m\u001b[0m\u001b[0m\n\u001b[1;32m     66\u001b[0m     \u001b[0;32mexcept\u001b[0m \u001b[0;34m(\u001b[0m\u001b[0mAttributeError\u001b[0m\u001b[0;34m,\u001b[0m \u001b[0mTypeError\u001b[0m\u001b[0;34m)\u001b[0m\u001b[0;34m:\u001b[0m\u001b[0;34m\u001b[0m\u001b[0m\n\u001b[0;32m---> 67\u001b[0;31m         \u001b[0;32mreturn\u001b[0m \u001b[0m_wrapit\u001b[0m\u001b[0;34m(\u001b[0m\u001b[0mobj\u001b[0m\u001b[0;34m,\u001b[0m \u001b[0mmethod\u001b[0m\u001b[0;34m,\u001b[0m \u001b[0;34m*\u001b[0m\u001b[0margs\u001b[0m\u001b[0;34m,\u001b[0m \u001b[0;34m**\u001b[0m\u001b[0mkwds\u001b[0m\u001b[0;34m)\u001b[0m\u001b[0;34m\u001b[0m\u001b[0m\n\u001b[0m\u001b[1;32m     68\u001b[0m \u001b[0;34m\u001b[0m\u001b[0m\n\u001b[1;32m     69\u001b[0m \u001b[0;34m\u001b[0m\u001b[0m\n",
      "\u001b[0;32m/anaconda3/lib/python3.6/site-packages/numpy/core/fromnumeric.py\u001b[0m in \u001b[0;36m_wrapit\u001b[0;34m(obj, method, *args, **kwds)\u001b[0m\n\u001b[1;32m     45\u001b[0m     \u001b[0;32mexcept\u001b[0m \u001b[0mAttributeError\u001b[0m\u001b[0;34m:\u001b[0m\u001b[0;34m\u001b[0m\u001b[0m\n\u001b[1;32m     46\u001b[0m         \u001b[0mwrap\u001b[0m \u001b[0;34m=\u001b[0m \u001b[0;32mNone\u001b[0m\u001b[0;34m\u001b[0m\u001b[0m\n\u001b[0;32m---> 47\u001b[0;31m     \u001b[0mresult\u001b[0m \u001b[0;34m=\u001b[0m \u001b[0mgetattr\u001b[0m\u001b[0;34m(\u001b[0m\u001b[0masarray\u001b[0m\u001b[0;34m(\u001b[0m\u001b[0mobj\u001b[0m\u001b[0;34m)\u001b[0m\u001b[0;34m,\u001b[0m \u001b[0mmethod\u001b[0m\u001b[0;34m)\u001b[0m\u001b[0;34m(\u001b[0m\u001b[0;34m*\u001b[0m\u001b[0margs\u001b[0m\u001b[0;34m,\u001b[0m \u001b[0;34m**\u001b[0m\u001b[0mkwds\u001b[0m\u001b[0;34m)\u001b[0m\u001b[0;34m\u001b[0m\u001b[0m\n\u001b[0m\u001b[1;32m     48\u001b[0m     \u001b[0;32mif\u001b[0m \u001b[0mwrap\u001b[0m\u001b[0;34m:\u001b[0m\u001b[0;34m\u001b[0m\u001b[0m\n\u001b[1;32m     49\u001b[0m         \u001b[0;32mif\u001b[0m \u001b[0;32mnot\u001b[0m \u001b[0misinstance\u001b[0m\u001b[0;34m(\u001b[0m\u001b[0mresult\u001b[0m\u001b[0;34m,\u001b[0m \u001b[0mmu\u001b[0m\u001b[0;34m.\u001b[0m\u001b[0mndarray\u001b[0m\u001b[0;34m)\u001b[0m\u001b[0;34m:\u001b[0m\u001b[0;34m\u001b[0m\u001b[0m\n",
      "\u001b[0;31mValueError\u001b[0m: bad axis1 argument to swapaxes"
     ]
    }
   ],
   "source": [
    "words_occurrence(text_string)"
   ]
  },
  {
   "cell_type": "code",
   "execution_count": null,
   "metadata": {
    "collapsed": true
   },
   "outputs": [],
   "source": [
    "# 각각의 word count를 셀 컬럼 만들기 \n",
    "# list['1998_CNT'] = "
   ]
  }
 ],
 "metadata": {
  "kernelspec": {
   "display_name": "Python 3",
   "language": "python",
   "name": "python3"
  },
  "language_info": {
   "codemirror_mode": {
    "name": "ipython",
    "version": 3
   },
   "file_extension": ".py",
   "mimetype": "text/x-python",
   "name": "python",
   "nbconvert_exporter": "python",
   "pygments_lexer": "ipython3",
   "version": "3.6.3"
  }
 },
 "nbformat": 4,
 "nbformat_minor": 2
}
